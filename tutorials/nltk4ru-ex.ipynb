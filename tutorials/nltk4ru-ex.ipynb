{
 "cells": [
  {
   "cell_type": "markdown",
   "metadata": {},
   "source": [
    "## Морфологический анализ с помощью nltk4russian"
   ]
  },
  {
   "cell_type": "markdown",
   "metadata": {},
   "source": [
    "Контекстный теггер `nltk4russian` обучает триграммный теггер на небольшом корпусе. Когда для нового слова в модели отсутствует вариант разбора, использует предсказание `pymorphy2`. Импортируем контекстный теггер и функцию для чтения корпуса в формат nltk:"
   ]
  },
  {
   "cell_type": "code",
   "execution_count": 1,
   "metadata": {},
   "outputs": [],
   "source": [
    "from nltk4russian.tagger import PMContextTagger\n",
    "from nltk4russian.util import read_corpus_to_nltk"
   ]
  },
  {
   "cell_type": "markdown",
   "metadata": {},
   "source": [
    "Читаем подкорпус НКРЯ из файла с разделителем-табуляцией (можно посмотреть в папке *data*):"
   ]
  },
  {
   "cell_type": "code",
   "execution_count": 2,
   "metadata": {
    "collapsed": true
   },
   "outputs": [],
   "source": [
    "with open('../data/media1.tab') as f:\n",
    "    sents = list(read_corpus_to_nltk(f))"
   ]
  },
  {
   "cell_type": "markdown",
   "metadata": {},
   "source": [
    "Можно вывести одно из предложений:"
   ]
  },
  {
   "cell_type": "code",
   "execution_count": 3,
   "metadata": {},
   "outputs": [
    {
     "name": "stdout",
     "output_type": "stream",
     "text": [
      "И CONJ\n",
      ", PNCT\n",
      "судя GRND,impf,tran,actv,pres\n",
      "по PREP\n",
      "всему ADJF,Apro,Subx,neut,sing,datv\n",
      ", PNCT\n",
      "на PREP\n",
      "определённые ADJF,plur,accs,inan\n",
      "уступки NOUN,femn,inan,plur,accs\n",
      "придётся VERB,perf,intr,sing,futr,3per,indc\n",
      "идти INFN,impf,intr,actv\n",
      "не PRCL\n",
      "только PRCL\n",
      "ЮКОСу NOUN,masc,inan,sing,datv\n",
      ", PNCT\n",
      "но CONJ\n",
      "и CONJ\n",
      "предпринимательскому ADJF,neut,sing,datv\n",
      "сообществу NOUN,neut,inan,sing,datv\n",
      "в PREP\n",
      "целом NOUN,neut,inan,sing,loct\n",
      ". PNCT\n"
     ]
    }
   ],
   "source": [
    "for w, tag in sents[5]:\n",
    "    print(w, tag)"
   ]
  },
  {
   "cell_type": "markdown",
   "metadata": {},
   "source": [
    "Обучаем контекстный теггер на получившемся наборе предложений:"
   ]
  },
  {
   "cell_type": "code",
   "execution_count": 5,
   "metadata": {
    "collapsed": true
   },
   "outputs": [],
   "source": [
    "t = PMContextTagger(sents)"
   ]
  },
  {
   "cell_type": "markdown",
   "metadata": {},
   "source": [
    "Применим полученную модель к предложению (списку токенов):"
   ]
  },
  {
   "cell_type": "code",
   "execution_count": 7,
   "metadata": {},
   "outputs": [
    {
     "name": "stdout",
     "output_type": "stream",
     "text": [
      "дом NOUN,inan,masc,sing,accs\n",
      "который ADJF,Apro,Subx,Anph,masc,sing,nomn\n",
      "построил VERB,perf,tran,masc,sing,past,indc\n",
      "джек NOUN,anim,masc,Name,sing,nomn\n"
     ]
    }
   ],
   "source": [
    "for w, tag in t.tag(['дом', 'который', 'построил', 'джек']):\n",
    "    print(w, tag)"
   ]
  },
  {
   "cell_type": "markdown",
   "metadata": {},
   "source": [
    "Можно загрузить ещё один подкорпус и оценить на нём модель:"
   ]
  },
  {
   "cell_type": "code",
   "execution_count": 8,
   "metadata": {},
   "outputs": [
    {
     "data": {
      "text/plain": [
       "0.43416283473086287"
      ]
     },
     "execution_count": 8,
     "metadata": {},
     "output_type": "execute_result"
    }
   ],
   "source": [
    "with open('../data/media2.tab') as f:\n",
    "    test_sents = list(read_corpus_to_nltk(f))\n",
    "t.evaluate(test_sents)"
   ]
  },
  {
   "cell_type": "code",
   "execution_count": null,
   "metadata": {
    "collapsed": true
   },
   "outputs": [],
   "source": []
  }
 ],
 "metadata": {
  "kernelspec": {
   "display_name": "Python 3",
   "language": "python",
   "name": "python3"
  },
  "language_info": {
   "codemirror_mode": {
    "name": "ipython",
    "version": 3
   },
   "file_extension": ".py",
   "mimetype": "text/x-python",
   "name": "python",
   "nbconvert_exporter": "python",
   "pygments_lexer": "ipython3",
   "version": "3.4.3"
  }
 },
 "nbformat": 4,
 "nbformat_minor": 2
}
