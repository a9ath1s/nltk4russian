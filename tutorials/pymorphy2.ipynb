{
 "cells": [
  {
   "cell_type": "markdown",
   "metadata": {},
   "source": [
    "## Морфологический анализ с использованием pymorphy2"
   ]
  },
  {
   "cell_type": "code",
   "execution_count": 3,
   "metadata": {
    "collapsed": true
   },
   "outputs": [],
   "source": [
    "import pymorphy2"
   ]
  },
  {
   "cell_type": "markdown",
   "metadata": {},
   "source": [
    "Заводим морфологический анализатор `m`:"
   ]
  },
  {
   "cell_type": "code",
   "execution_count": 4,
   "metadata": {
    "collapsed": true
   },
   "outputs": [],
   "source": [
    "m = pymorphy2.MorphAnalyzer()"
   ]
  },
  {
   "cell_type": "markdown",
   "metadata": {},
   "source": [
    "Получим разбор для любой словоформы:"
   ]
  },
  {
   "cell_type": "code",
   "execution_count": 5,
   "metadata": {},
   "outputs": [
    {
     "data": {
      "text/plain": [
       "[Parse(word='подать', tag=OpencorporaTag('INFN,perf,tran'), normal_form='подать', score=0.92, methods_stack=((<DictionaryAnalyzer>, 'подать', 843, 0),)),\n",
       " Parse(word='подать', tag=OpencorporaTag('NOUN,inan,femn sing,nomn'), normal_form='подать', score=0.04, methods_stack=((<DictionaryAnalyzer>, 'подать', 13, 0),)),\n",
       " Parse(word='подать', tag=OpencorporaTag('NOUN,inan,femn sing,accs'), normal_form='подать', score=0.04, methods_stack=((<DictionaryAnalyzer>, 'подать', 13, 3),))]"
      ]
     },
     "execution_count": 5,
     "metadata": {},
     "output_type": "execute_result"
    }
   ],
   "source": [
    "m.parse('подать')"
   ]
  },
  {
   "cell_type": "markdown",
   "metadata": {},
   "source": [
    "Каждый разбор состоит из исходной словоформы, набора граммем, леммы, значения вероятности разбора, также указаны внутренние методы разбора. Запишем список разборов в переменную:"
   ]
  },
  {
   "cell_type": "code",
   "execution_count": 6,
   "metadata": {
    "collapsed": true
   },
   "outputs": [],
   "source": [
    "full_parse = m.parse('подать')"
   ]
  },
  {
   "cell_type": "markdown",
   "metadata": {},
   "source": [
    "Теперь можно вывести различные части разбора (например, первого):"
   ]
  },
  {
   "cell_type": "code",
   "execution_count": 9,
   "metadata": {},
   "outputs": [
    {
     "data": {
      "text/plain": [
       "'подать'"
      ]
     },
     "execution_count": 9,
     "metadata": {},
     "output_type": "execute_result"
    }
   ],
   "source": [
    "# лемма\n",
    "full_parse[0].normal_form"
   ]
  },
  {
   "cell_type": "code",
   "execution_count": 10,
   "metadata": {},
   "outputs": [
    {
     "data": {
      "text/plain": [
       "OpencorporaTag('INFN,perf,tran')"
      ]
     },
     "execution_count": 10,
     "metadata": {},
     "output_type": "execute_result"
    }
   ],
   "source": [
    "# тег\n",
    "full_parse[0].tag"
   ]
  },
  {
   "cell_type": "code",
   "execution_count": 11,
   "metadata": {},
   "outputs": [
    {
     "data": {
      "text/plain": [
       "'inan'"
      ]
     },
     "execution_count": 11,
     "metadata": {},
     "output_type": "execute_result"
    }
   ],
   "source": [
    "# значения различных грамматических категорий\n",
    "# full_parse[0].tag.aspect\n",
    "# full_parse[0].tag.number\n",
    "# full_parse[0].tag.gender\n",
    "full_parse[1].tag.animacy\n",
    "# full_parse[0].tag.tense\n",
    "# ..."
   ]
  },
  {
   "cell_type": "code",
   "execution_count": 12,
   "metadata": {},
   "outputs": [
    {
     "data": {
      "text/plain": [
       "'ИНФ,сов,перех'"
      ]
     },
     "execution_count": 12,
     "metadata": {},
     "output_type": "execute_result"
    }
   ],
   "source": [
    "# кириллическое представление тега\n",
    "full_parse[0].tag.cyr_repr"
   ]
  },
  {
   "cell_type": "markdown",
   "metadata": {},
   "source": [
    "Также для разбора можно получить полную парадигму соответствующей леммы:"
   ]
  },
  {
   "cell_type": "code",
   "execution_count": 16,
   "metadata": {},
   "outputs": [
    {
     "data": {
      "text/plain": [
       "[Parse(word='подать', tag=OpencorporaTag('NOUN,inan,femn sing,nomn'), normal_form='подать', score=1.0, methods_stack=((<DictionaryAnalyzer>, 'подать', 13, 0),)),\n",
       " Parse(word='подати', tag=OpencorporaTag('NOUN,inan,femn sing,gent'), normal_form='подать', score=1.0, methods_stack=((<DictionaryAnalyzer>, 'подати', 13, 1),)),\n",
       " Parse(word='подати', tag=OpencorporaTag('NOUN,inan,femn sing,datv'), normal_form='подать', score=1.0, methods_stack=((<DictionaryAnalyzer>, 'подати', 13, 2),)),\n",
       " Parse(word='подать', tag=OpencorporaTag('NOUN,inan,femn sing,accs'), normal_form='подать', score=1.0, methods_stack=((<DictionaryAnalyzer>, 'подать', 13, 3),)),\n",
       " Parse(word='податью', tag=OpencorporaTag('NOUN,inan,femn sing,ablt'), normal_form='подать', score=1.0, methods_stack=((<DictionaryAnalyzer>, 'податью', 13, 4),)),\n",
       " Parse(word='подати', tag=OpencorporaTag('NOUN,inan,femn sing,loct'), normal_form='подать', score=1.0, methods_stack=((<DictionaryAnalyzer>, 'подати', 13, 5),)),\n",
       " Parse(word='подати', tag=OpencorporaTag('NOUN,inan,femn plur,nomn'), normal_form='подать', score=1.0, methods_stack=((<DictionaryAnalyzer>, 'подати', 13, 6),)),\n",
       " Parse(word='податей', tag=OpencorporaTag('NOUN,inan,femn plur,gent'), normal_form='подать', score=1.0, methods_stack=((<DictionaryAnalyzer>, 'податей', 13, 7),)),\n",
       " Parse(word='податям', tag=OpencorporaTag('NOUN,inan,femn plur,datv'), normal_form='подать', score=1.0, methods_stack=((<DictionaryAnalyzer>, 'податям', 13, 8),)),\n",
       " Parse(word='подати', tag=OpencorporaTag('NOUN,inan,femn plur,accs'), normal_form='подать', score=1.0, methods_stack=((<DictionaryAnalyzer>, 'подати', 13, 9),)),\n",
       " Parse(word='податями', tag=OpencorporaTag('NOUN,inan,femn plur,ablt'), normal_form='подать', score=1.0, methods_stack=((<DictionaryAnalyzer>, 'податями', 13, 10),)),\n",
       " Parse(word='податях', tag=OpencorporaTag('NOUN,inan,femn plur,loct'), normal_form='подать', score=1.0, methods_stack=((<DictionaryAnalyzer>, 'податях', 13, 11),))]"
      ]
     },
     "execution_count": 16,
     "metadata": {},
     "output_type": "execute_result"
    }
   ],
   "source": [
    "full_parse[1].lexeme"
   ]
  },
  {
   "cell_type": "markdown",
   "metadata": {},
   "source": [
    "Или вывести определённую форму:"
   ]
  },
  {
   "cell_type": "code",
   "execution_count": 14,
   "metadata": {},
   "outputs": [
    {
     "data": {
      "text/plain": [
       "'подати'"
      ]
     },
     "execution_count": 14,
     "metadata": {},
     "output_type": "execute_result"
    }
   ],
   "source": [
    "full_parse[1].inflect({'gent'}).word"
   ]
  },
  {
   "cell_type": "markdown",
   "metadata": {},
   "source": [
    "Если заданной граммемы у слова быть не может, функция `inflect` не вернёт ничего:"
   ]
  },
  {
   "cell_type": "code",
   "execution_count": 17,
   "metadata": {},
   "outputs": [],
   "source": [
    "full_parse[1].inflect({'perf'})"
   ]
  },
  {
   "cell_type": "markdown",
   "metadata": {},
   "source": [
    "pymorphy2 умеет предсказывать разборы для слов, которых нет в словаре:"
   ]
  },
  {
   "cell_type": "code",
   "execution_count": 18,
   "metadata": {},
   "outputs": [
    {
     "data": {
      "text/plain": [
       "[Parse(word='калушата', tag=OpencorporaTag('ADJS,Qual femn,sing'), normal_form='калушатый', score=0.2857142857142857, methods_stack=((<DictionaryAnalyzer>, 'ушата', 4, 28), (<UnknownPrefixAnalyzer>, 'кал'))),\n",
       " Parse(word='калушата', tag=OpencorporaTag('NOUN,inan,masc sing,gent'), normal_form='калушат', score=0.2857142857142857, methods_stack=((<DictionaryAnalyzer>, 'ушата', 33, 1), (<UnknownPrefixAnalyzer>, 'кал'))),\n",
       " Parse(word='калушата', tag=OpencorporaTag('NOUN,anim,masc,Name sing,nomn'), normal_form='калушата', score=0.2857142857142857, methods_stack=((<DictionaryAnalyzer>, 'ата', 31, 0), (<UnknownPrefixAnalyzer>, 'калуш'))),\n",
       " Parse(word='калушата', tag=OpencorporaTag('NOUN,anim,masc plur,nomn'), normal_form='калушонок', score=0.14285714285714285, methods_stack=((<FakeDictionary>, 'калушата', 274, 6), (<KnownSuffixAnalyzer>, 'ушата')))]"
      ]
     },
     "execution_count": 18,
     "metadata": {},
     "output_type": "execute_result"
    }
   ],
   "source": [
    "m.parse('калушата')"
   ]
  },
  {
   "cell_type": "markdown",
   "metadata": {
    "collapsed": true
   },
   "source": [
    "Полный список граммем можно посмотреть в [словаре OpenCorpora](http://opencorpora.org/dict.php?act=gram)"
   ]
  },
  {
   "cell_type": "code",
   "execution_count": null,
   "metadata": {
    "collapsed": true
   },
   "outputs": [],
   "source": []
  }
 ],
 "metadata": {
  "kernelspec": {
   "display_name": "Python 3",
   "language": "python",
   "name": "python3"
  },
  "language_info": {
   "codemirror_mode": {
    "name": "ipython",
    "version": 3
   },
   "file_extension": ".py",
   "mimetype": "text/x-python",
   "name": "python",
   "nbconvert_exporter": "python",
   "pygments_lexer": "ipython3",
   "version": "3.4.3"
  }
 },
 "nbformat": 4,
 "nbformat_minor": 1
}
